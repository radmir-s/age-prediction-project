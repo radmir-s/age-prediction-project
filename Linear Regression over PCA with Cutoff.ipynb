{
 "cells": [
  {
   "cell_type": "markdown",
   "metadata": {},
   "source": [
    "### Importing data"
   ]
  },
  {
   "cell_type": "code",
   "execution_count": 2,
   "metadata": {},
   "outputs": [],
   "source": [
    "import numpy as np\n",
    "import matplotlib.pyplot\n",
    "\n",
    "cutoff = 300\n",
    "\n",
    "# importing the training data\n",
    "encodings = []\n",
    "ages_distr = []\n",
    "for i in range(1, 101):\n",
    "    enc = np.load(f'bigdata/encodings/train/X{i}.npy')[:cutoff]\n",
    "    ages_distr.append(enc.shape[0])\n",
    "    enc_i = np.concatenate((enc, i * np.ones((enc.shape[0], 1))), axis=1)\n",
    "    encodings.append(enc_i)\n",
    "encodings = np.concatenate(encodings)                                  # matrix with ages column  \n",
    "\n",
    "# importing the testing data\n",
    "test_encodings = []\n",
    "test_ages_distr = []\n",
    "for i in range(1, 101):\n",
    "    enc = np.load(f'bigdata/encodings/test/X{i}.npy')[:cutoff]\n",
    "    test_ages_distr.append(enc.shape[0])\n",
    "    enc_i = np.concatenate((enc, i * np.ones((enc.shape[0], 1))), axis=1)\n",
    "    test_encodings.append(enc_i)\n",
    "test_encodings = np.concatenate(test_encodings)                                  # matrix with ages column  \n",
    "\n",
    "#separating the data\n",
    "X = encodings[:,:-1]           # matrix without ages column\n",
    "Y = encodings[:,-1]            # ages only\n",
    "\n",
    "#separating the test data\n",
    "X_test = test_encodings[:,:-1]           # matrix without ages column\n",
    "Y_test = test_encodings[:,-1]            # ages only"
   ]
  },
  {
   "cell_type": "markdown",
   "metadata": {},
   "source": [
    "### PCA"
   ]
  },
  {
   "cell_type": "code",
   "execution_count": 3,
   "metadata": {},
   "outputs": [
    {
     "data": {
      "text/plain": [
       "[<matplotlib.lines.Line2D at 0x1e453d90a30>]"
      ]
     },
     "execution_count": 3,
     "metadata": {},
     "output_type": "execute_result"
    },
    {
     "data": {
      "image/png": "[encoded data removed]",
      "text/plain": [
       "<Figure size 432x288 with 1 Axes>"
      ]
     },
     "metadata": {
      "needs_background": "light"
     },
     "output_type": "display_data"
    }
   ],
   "source": [
    "# finding PCA\n",
    "X_avg = np.mean(X, axis=0)\n",
    "n = X_avg.shape[0]\n",
    "X = X - X_avg\n",
    "U, S, VT = np.linalg.svd(X / np.sqrt(n), full_matrices=False)\n",
    "cdS = np.cumsum(S) / np.sum(S)  # Cumulative energy\n",
    "r90 = np.min(np.where(cdS > 0.9))\n",
    "\n",
    "#plots\n",
    "matplotlib.pyplot.plot(range(len(S)),S)\n",
    "matplotlib.pyplot.plot(range(len(S)),cdS)"
   ]
  },
  {
   "cell_type": "markdown",
   "metadata": {},
   "source": [
    "### Modeling"
   ]
  },
  {
   "cell_type": "code",
   "execution_count": 4,
   "metadata": {},
   "outputs": [],
   "source": [
    "from sklearn.linear_model import LinearRegression\n",
    "\n",
    "Mse = []\n",
    "for pca_n in range(1,r90+1):\n",
    "    Xpc = X @ VT[0:pca_n].T\n",
    "    Xpc_test = X_test @ VT[0:pca_n].T\n",
    "    reg = LinearRegression().fit(Xpc, Y)\n",
    "    mse = np.sum(np.power(reg.predict(Xpc_test) - Y_test,2))/Y_test.shape[0]\n",
    "    Mse.append(mse)"
   ]
  },
  {
   "cell_type": "code",
   "execution_count": 5,
   "metadata": {},
   "outputs": [
    {
     "data": {
      "text/plain": [
       "[<matplotlib.lines.Line2D at 0x1e45a3ef0a0>]"
      ]
     },
     "execution_count": 5,
     "metadata": {},
     "output_type": "execute_result"
    },
    {
     "data": {
      "image/png": "[encoded data removed]",
      "text/plain": [
       "<Figure size 432x288 with 1 Axes>"
      ]
     },
     "metadata": {
      "needs_background": "light"
     },
     "output_type": "display_data"
    }
   ],
   "source": [
    "matplotlib.pyplot.plot(range(1,r90+1),Mse,\"o\")"
   ]
  },
  {
   "cell_type": "code",
   "execution_count": 16,
   "metadata": {},
   "outputs": [
    {
     "data": {
      "text/plain": [
       "[465.27133515219765, 280.909969823939, 583.824994695928, 696.4224345426037]"
      ]
     },
     "execution_count": 16,
     "metadata": {},
     "output_type": "execute_result"
    }
   ],
   "source": [
    "Mse[:4]"
   ]
  },
  {
   "cell_type": "code",
   "execution_count": 6,
   "metadata": {},
   "outputs": [],
   "source": [
    "pca_n = 2\n",
    "Xpc = X @ VT[0:pca_n].T\n",
    "Xpc_test = X_test @ VT[0:pca_n].T\n",
    "reg = LinearRegression().fit(Xpc, Y)"
   ]
  },
  {
   "cell_type": "code",
   "execution_count": 7,
   "metadata": {},
   "outputs": [
    {
     "data": {
      "text/plain": [
       "(23850, 2)"
      ]
     },
     "execution_count": 7,
     "metadata": {},
     "output_type": "execute_result"
    }
   ],
   "source": [
    "Xpc.shape"
   ]
  },
  {
   "cell_type": "code",
   "execution_count": 8,
   "metadata": {},
   "outputs": [
    {
     "data": {
      "text/plain": [
       "(23850, 128)"
      ]
     },
     "execution_count": 8,
     "metadata": {},
     "output_type": "execute_result"
    }
   ],
   "source": [
    "X.shape"
   ]
  },
  {
   "cell_type": "code",
   "execution_count": null,
   "metadata": {},
   "outputs": [],
   "source": []
  }
 ],
 "metadata": {
  "kernelspec": {
   "display_name": "Python 3",
   "language": "python",
   "name": "python3"
  },
  "language_info": {
   "codemirror_mode": {
    "name": "ipython",
    "version": 3
   },
   "file_extension": ".py",
   "mimetype": "text/x-python",
   "name": "python",
   "nbconvert_exporter": "python",
   "pygments_lexer": "ipython3",
   "version": "3.8.5"
  }
 },
 "nbformat": 4,
 "nbformat_minor": 4
}
