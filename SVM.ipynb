{
 "cells": [
  {
   "cell_type": "code",
   "execution_count": 1,
   "metadata": {},
   "outputs": [],
   "source": [
    "import numpy as np\n",
    "from sklearn import svm\n",
    "\n",
    "X = np.load(\"bigdata/Xtrain.npy\")\n",
    "Xtest = np.load(\"bigdata/Xtest.npy\")\n",
    "\n",
    "X2 = np.load(\"smalldata/X.npy\")\n",
    "\n",
    "def eqSelect(array,m, random=False):\n",
    "    if not random:\n",
    "        return np.concatenate([array[array[:,128]==age][:m] for age in range(1,101)])\n",
    "    else:\n",
    "        return None\n",
    "    \n",
    "def grpAges(array,*ages):\n",
    "    ages = 0 , *ages, 101\n",
    "    grps = []\n",
    "    for i in range(1,len(ages)):\n",
    "        selector = array[(array[:,128]>=ages[i-1]) & (array[:,128]<ages[i]) ]\n",
    "        yield selector\n",
    "\n",
    "def precision(A,B,krnl,*ages):\n",
    "    # A - training data, B - testing data\n",
    "    grps =  list(grpAges(A,*ages))\n",
    "    popul = list(map(len,grps))\n",
    "    m = min(popul)\n",
    "    for i, group in enumerate(grps):\n",
    "        grps[i] = group[::len(group)//m,:128]\n",
    "    popul = list(map(len,grps))\n",
    "    print(f\"Group populations are {popul}\")\n",
    "    X = np.concatenate(grps)\n",
    "    y = []\n",
    "    for i, grp in enumerate(grps):\n",
    "        y += [i]*len(grp)\n",
    "    y = np.array(y)\n",
    "    cls = svm.SVC(kernel = krnl)\n",
    "    cls.fit(X,y)\n",
    "    testGrps =  [group[::2,:128] for group in grpAges(B,*ages)]\n",
    "    means = []\n",
    "    for i, group in enumerate(testGrps):\n",
    "        mean = int(np.mean(cls.predict(group)==i)*100)\n",
    "        means.append(mean)\n",
    "    print(f\"Precisions are {means}. Overall is {int(np.mean(means))}\")\n",
    "    \n",
    "\n",
    "def precision(A,B,krnl,*ages):\n",
    "    # A - training data, B - testing data\n",
    "    grps =  list(grpAges(A,*ages))\n",
    "    popul = list(map(len,grps))\n",
    "    m = min(popul)\n",
    "    for i, group in enumerate(grps):\n",
    "        grps[i] = group[::len(group)//m,:128]\n",
    "    popul = list(map(len,grps))\n",
    "    print(f\"Group populations are {popul}\")\n",
    "    X = np.concatenate(grps)\n",
    "    y = []\n",
    "    for i, grp in enumerate(grps):\n",
    "        y += [i]*len(grp)\n",
    "    y = np.array(y)\n",
    "    cls = svm.SVC(kernel = krnl)\n",
    "    cls.fit(X,y)\n",
    "    testGrps =  [group[::2,:128] for group in grpAges(B,*ages)]\n",
    "    means = []\n",
    "    for i, group in enumerate(testGrps):\n",
    "        mean = int(np.mean(cls.predict(group)==i)*100)\n",
    "        means.append(mean)\n",
    "    print(f\"Precisions are {means}. Overall is {int(np.mean(means))}\")\n",
    "    "
   ]
  },
  {
   "cell_type": "code",
   "execution_count": 30,
   "metadata": {},
   "outputs": [
    {
     "name": "stdout",
     "output_type": "stream",
     "text": [
      "Group populations are [4856, 5027, 5316]\n",
      "Precisions are [88]. Overall is 8800\n",
      "Precisions are [88, 61]. Overall is 7450\n",
      "Precisions are [88, 61, 57]. Overall is 6866\n"
     ]
    }
   ],
   "source": [
    "precision(X,Xtest,'rbf',16,41)"
   ]
  },
  {
   "cell_type": "code",
   "execution_count": 20,
   "metadata": {},
   "outputs": [
    {
     "name": "stdout",
     "output_type": "stream",
     "text": [
      "Group populations are [2025, 2071, 2413]\n",
      "Precision for 0 group is 83%\n",
      "Precision for 1 group is 79%\n",
      "Precision for 2 group is 72%\n"
     ]
    }
   ],
   "source": [
    "precision(X2,Xtest,'rbf',16,41)"
   ]
  },
  {
   "cell_type": "code",
   "execution_count": 21,
   "metadata": {},
   "outputs": [
    {
     "name": "stdout",
     "output_type": "stream",
     "text": [
      "Group populations are [4856, 4945, 5007]\n",
      "Precision for 0 group is 89%\n",
      "Precision for 1 group is 76%\n",
      "Precision for 2 group is 85%\n"
     ]
    }
   ],
   "source": [
    "precision(X,Xtest,'rbf',16,51)"
   ]
  },
  {
   "cell_type": "code",
   "execution_count": 22,
   "metadata": {},
   "outputs": [
    {
     "name": "stdout",
     "output_type": "stream",
     "text": [
      "Group populations are [2025, 2130, 2448]\n",
      "Precision for 0 group is 83%\n",
      "Precision for 1 group is 80%\n",
      "Precision for 2 group is 82%\n"
     ]
    }
   ],
   "source": [
    "precision(X2,Xtest,'rbf',16,51)"
   ]
  },
  {
   "cell_type": "code",
   "execution_count": 23,
   "metadata": {},
   "outputs": [
    {
     "name": "stdout",
     "output_type": "stream",
     "text": [
      "Group populations are [4856, 4945, 5007]\n",
      "Precision for 0 group is 88%\n",
      "Precision for 1 group is 74%\n",
      "Precision for 2 group is 84%\n"
     ]
    }
   ],
   "source": [
    "precision(X,Xtest,'linear',16,51)"
   ]
  },
  {
   "cell_type": "code",
   "execution_count": 24,
   "metadata": {},
   "outputs": [
    {
     "name": "stdout",
     "output_type": "stream",
     "text": [
      "Group populations are [4856, 4945, 5007]\n",
      "Precision for 0 group is 88%\n",
      "Precision for 1 group is 75%\n",
      "Precision for 2 group is 86%\n"
     ]
    }
   ],
   "source": [
    "precision(X,Xtest,'poly',16,51)"
   ]
  },
  {
   "cell_type": "code",
   "execution_count": 25,
   "metadata": {},
   "outputs": [
    {
     "name": "stdout",
     "output_type": "stream",
     "text": [
      "Group populations are [4856, 4945, 5007]\n",
      "Precision for 0 group is 87%\n",
      "Precision for 1 group is 74%\n",
      "Precision for 2 group is 83%\n"
     ]
    }
   ],
   "source": [
    "precision(X,Xtest,'sigmoid',16,51)"
   ]
  },
  {
   "cell_type": "code",
   "execution_count": 33,
   "metadata": {},
   "outputs": [
    {
     "name": "stdout",
     "output_type": "stream",
     "text": [
      "a b:  7 31\n",
      "Group populations are [1688, 1723, 1698]\n",
      "Precisions are [99, 65, 43]. Overall is 69\n",
      "a b:  7 41\n",
      "Group populations are [1688, 1702, 1715]\n",
      "Precisions are [99, 62, 52]. Overall is 71\n",
      "a b:  7 51\n",
      "Group populations are [1688, 1691, 1788]\n",
      "Precisions are [99, 64, 73]. Overall is 78\n",
      "a b:  11 31\n",
      "Group populations are [2564, 2626, 2591]\n",
      "Precisions are [97, 58, 42]. Overall is 65\n",
      "a b:  11 41\n",
      "Group populations are [2564, 2574, 2658]\n",
      "Precisions are [98, 55, 56]. Overall is 69\n",
      "a b:  11 51\n",
      "Group populations are [2564, 2570, 2782]\n",
      "Precisions are [98, 55, 72]. Overall is 75\n",
      "a b:  15 31\n",
      "Group populations are [4149, 4245, 4280]\n",
      "Precisions are [92, 62, 41]. Overall is 65\n",
      "a b:  15 41\n",
      "Group populations are [4149, 4183, 4430]\n",
      "Precisions are [93, 57, 56]. Overall is 68\n",
      "a b:  15 51\n",
      "Group populations are [4149, 4288, 4172]\n",
      "Precisions are [93, 57, 70]. Overall is 73\n"
     ]
    }
   ],
   "source": [
    "for a in (7,11,15):\n",
    "    for b in (31,41,51):\n",
    "        print(\"a b: \",a,b)\n",
    "        precision(X,Xtest,'rbf',a,b)"
   ]
  },
  {
   "cell_type": "code",
   "execution_count": 35,
   "metadata": {},
   "outputs": [
    {
     "name": "stdout",
     "output_type": "stream",
     "text": [
      "a b:  15 41\n",
      "Group populations are [4149, 4183, 4430]\n",
      "Precisions are [87, 73, 79]. Overall is 79\n",
      "a b:  15 51\n",
      "Group populations are [4149, 4288, 4172]\n",
      "Precisions are [88, 77, 85]. Overall is 83\n",
      "a b:  15 61\n",
      "Group populations are [4149, 4193, 5505]\n",
      "Precisions are [88, 76, 90]. Overall is 84\n",
      "a b:  18 41\n",
      "Group populations are [6934, 7187, 7594]\n",
      "Precisions are [83, 68, 79]. Overall is 76\n",
      "a b:  18 51\n",
      "Group populations are [6934, 7150, 8344]\n",
      "Precisions are [85, 71, 87]. Overall is 81\n",
      "a b:  18 61\n",
      "Group populations are [6934, 7136, 11009]\n",
      "Precisions are [85, 71, 91]. Overall is 82\n"
     ]
    }
   ],
   "source": [
    "for a in (15,18):\n",
    "    for b in (41,51,61):\n",
    "        print(\"a b: \",a,b)\n",
    "        precision(X,Xtest,'rbf',a,b)"
   ]
  },
  {
   "cell_type": "code",
   "execution_count": 4,
   "metadata": {},
   "outputs": [
    {
     "name": "stdout",
     "output_type": "stream",
     "text": [
      "5\n",
      "Group populations are [1459, 1463]\n",
      "Precisions are [99, 98]. Overall is 98\n",
      "7\n",
      "Group populations are [1688, 1706]\n",
      "Precisions are [99, 98]. Overall is 98\n",
      "9\n",
      "Group populations are [2076, 2104]\n",
      "Precisions are [99, 97]. Overall is 98\n",
      "11\n",
      "Group populations are [2564, 2603]\n",
      "Precisions are [97, 97]. Overall is 97\n",
      "13\n",
      "Group populations are [3175, 3199]\n",
      "Precisions are [95, 96]. Overall is 95\n",
      "15\n",
      "Group populations are [4149, 4149]\n",
      "Precisions are [89, 94]. Overall is 91\n",
      "17\n",
      "Group populations are [5809, 5909]\n",
      "Precisions are [87, 92]. Overall is 89\n",
      "19\n",
      "Group populations are [8443, 8534]\n",
      "Precisions are [85, 89]. Overall is 87\n"
     ]
    }
   ],
   "source": [
    "for a in range(5,21,2):\n",
    "    print(a)\n",
    "    precision(X,Xtest,'rbf',a)"
   ]
  },
  {
   "cell_type": "code",
   "execution_count": 5,
   "metadata": {},
   "outputs": [
    {
     "name": "stdout",
     "output_type": "stream",
     "text": [
      "17\n",
      "Group populations are [1688, 2061, 1698]\n",
      "Precisions are [95, 79, 87]. Overall is 87\n",
      "19\n",
      "Group populations are [1688, 1689, 1707]\n",
      "Precisions are [97, 75, 85]. Overall is 85\n",
      "21\n",
      "Group populations are [1688, 1872, 1694]\n",
      "Precisions are [98, 76, 79]. Overall is 84\n",
      "23\n",
      "Group populations are [1688, 1740, 1702]\n",
      "Precisions are [98, 75, 77]. Overall is 83\n",
      "25\n",
      "Group populations are [1688, 1798, 1689]\n",
      "Precisions are [98, 75, 74]. Overall is 82\n",
      "27\n",
      "Group populations are [1688, 1706, 1707]\n",
      "Precisions are [98, 74, 75]. Overall is 82\n",
      "29\n",
      "Group populations are [1688, 1736, 1695]\n",
      "Precisions are [98, 73, 75]. Overall is 82\n"
     ]
    }
   ],
   "source": [
    "for a in range(17,31,2):\n",
    "    print(a)\n",
    "    precision(X,Xtest,'rbf',7,a)"
   ]
  },
  {
   "cell_type": "code",
   "execution_count": 6,
   "metadata": {},
   "outputs": [
    {
     "name": "stdout",
     "output_type": "stream",
     "text": [
      "5\n",
      "Group populations are [1459, 1463]\n",
      "Precisions are [99, 98]. Overall is 98\n",
      "7\n",
      "Group populations are [1688, 1706]\n",
      "Precisions are [98, 97]. Overall is 97\n",
      "9\n",
      "Group populations are [2076, 2104]\n",
      "Precisions are [99, 97]. Overall is 98\n",
      "11\n",
      "Group populations are [2564, 2603]\n",
      "Precisions are [97, 96]. Overall is 96\n",
      "13\n",
      "Group populations are [3175, 3199]\n",
      "Precisions are [94, 95]. Overall is 94\n",
      "15\n",
      "Group populations are [4149, 4149]\n",
      "Precisions are [88, 94]. Overall is 91\n",
      "17\n",
      "Group populations are [5809, 5909]\n",
      "Precisions are [86, 91]. Overall is 88\n",
      "19\n",
      "Group populations are [8443, 8534]\n",
      "Precisions are [84, 87]. Overall is 85\n"
     ]
    }
   ],
   "source": [
    "for a in range(5,21,2):\n",
    "    print(a)\n",
    "    precision(X,Xtest,'linear',a)"
   ]
  },
  {
   "cell_type": "code",
   "execution_count": 7,
   "metadata": {},
   "outputs": [
    {
     "name": "stdout",
     "output_type": "stream",
     "text": [
      "5\n",
      "Group populations are [1459, 1463]\n",
      "Precisions are [99, 98]. Overall is 98\n",
      "7\n",
      "Group populations are [1688, 1706]\n",
      "Precisions are [98, 98]. Overall is 98\n",
      "9\n",
      "Group populations are [2076, 2104]\n",
      "Precisions are [99, 97]. Overall is 98\n",
      "11\n",
      "Group populations are [2564, 2603]\n",
      "Precisions are [97, 96]. Overall is 96\n",
      "13\n",
      "Group populations are [3175, 3199]\n",
      "Precisions are [94, 96]. Overall is 95\n",
      "15\n",
      "Group populations are [4149, 4149]\n",
      "Precisions are [89, 94]. Overall is 91\n",
      "17\n",
      "Group populations are [5809, 5909]\n",
      "Precisions are [87, 92]. Overall is 89\n",
      "19\n",
      "Group populations are [8443, 8534]\n",
      "Precisions are [84, 89]. Overall is 86\n"
     ]
    }
   ],
   "source": [
    "for a in range(5,21,2):\n",
    "    print(a)\n",
    "    precision(X,Xtest,'poly',a)"
   ]
  },
  {
   "cell_type": "code",
   "execution_count": 8,
   "metadata": {},
   "outputs": [
    {
     "name": "stdout",
     "output_type": "stream",
     "text": [
      "5\n",
      "Group populations are [1459, 1463]\n",
      "Precisions are [99, 97]. Overall is 98\n",
      "7\n",
      "Group populations are [1688, 1706]\n",
      "Precisions are [98, 97]. Overall is 97\n",
      "9\n",
      "Group populations are [2076, 2104]\n",
      "Precisions are [99, 97]. Overall is 98\n",
      "11\n",
      "Group populations are [2564, 2603]\n",
      "Precisions are [97, 96]. Overall is 96\n",
      "13\n",
      "Group populations are [3175, 3199]\n",
      "Precisions are [94, 95]. Overall is 94\n",
      "15\n",
      "Group populations are [4149, 4149]\n",
      "Precisions are [88, 93]. Overall is 90\n",
      "17\n",
      "Group populations are [5809, 5909]\n",
      "Precisions are [85, 91]. Overall is 88\n",
      "19\n",
      "Group populations are [8443, 8534]\n",
      "Precisions are [83, 86]. Overall is 84\n"
     ]
    }
   ],
   "source": [
    "for a in range(5,21,2):\n",
    "    print(a)\n",
    "    precision(X,Xtest,'sigmoid',a)"
   ]
  },
  {
   "cell_type": "code",
   "execution_count": 9,
   "metadata": {},
   "outputs": [
    {
     "name": "stdout",
     "output_type": "stream",
     "text": [
      "4\n",
      "Group populations are [1278, 1280]\n",
      "Precisions are [98, 98]. Overall is 98\n",
      "5\n",
      "Group populations are [1459, 1463]\n",
      "Precisions are [99, 98]. Overall is 98\n",
      "6\n",
      "Group populations are [1593, 1600]\n",
      "Precisions are [99, 98]. Overall is 98\n",
      "7\n",
      "Group populations are [1688, 1706]\n",
      "Precisions are [99, 98]. Overall is 98\n",
      "8\n",
      "Group populations are [1822, 1828]\n",
      "Precisions are [98, 97]. Overall is 97\n",
      "9\n",
      "Group populations are [2076, 2104]\n",
      "Precisions are [99, 97]. Overall is 98\n",
      "10\n",
      "Group populations are [2303, 2327]\n",
      "Precisions are [97, 97]. Overall is 97\n",
      "11\n",
      "Group populations are [2564, 2603]\n",
      "Precisions are [97, 97]. Overall is 97\n",
      "12\n",
      "Group populations are [2829, 2844]\n",
      "Precisions are [96, 96]. Overall is 96\n"
     ]
    }
   ],
   "source": [
    "for a in range(4,13):\n",
    "    print(a)\n",
    "    precision(X,Xtest,'rbf',a)"
   ]
  },
  {
   "cell_type": "code",
   "execution_count": null,
   "metadata": {},
   "outputs": [],
   "source": []
  }
 ],
 "metadata": {
  "kernelspec": {
   "display_name": "Python 3",
   "language": "python",
   "name": "python3"
  },
  "language_info": {
   "codemirror_mode": {
    "name": "ipython",
    "version": 3
   },
   "file_extension": ".py",
   "mimetype": "text/x-python",
   "name": "python",
   "nbconvert_exporter": "python",
   "pygments_lexer": "ipython3",
   "version": "3.8.5"
  }
 },
 "nbformat": 4,
 "nbformat_minor": 4
}
