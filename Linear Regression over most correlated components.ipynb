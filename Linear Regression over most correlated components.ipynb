{
 "cells": [
  {
   "cell_type": "markdown",
   "metadata": {},
   "source": [
    "### Importing data"
   ]
  },
  {
   "cell_type": "code",
   "execution_count": 8,
   "metadata": {},
   "outputs": [],
   "source": [
    "import numpy as np\n",
    "import matplotlib.pyplot\n",
    "\n",
    "cutoff = 2000\n",
    "\n",
    "# importing the training data\n",
    "encodings = []\n",
    "ages_distr = []\n",
    "for i in range(1, 101):\n",
    "    enc = np.load(f'extracted_encodings/train/X{i}.npy')[:cutoff]\n",
    "    ages_distr.append(enc.shape[0])\n",
    "    enc_i = np.concatenate((enc, i * np.ones((enc.shape[0], 1))), axis=1)\n",
    "    encodings.append(enc_i)\n",
    "encodings = np.concatenate(encodings)                                  # matrix with ages column  \n",
    "\n",
    "# importing the testing data\n",
    "test_encodings = []\n",
    "test_ages_distr = []\n",
    "for i in range(1, 101):\n",
    "    enc = np.load(f'extracted_encodings/test/X{i}.npy')[:cutoff]\n",
    "    test_ages_distr.append(enc.shape[0])\n",
    "    enc_i = np.concatenate((enc, i * np.ones((enc.shape[0], 1))), axis=1)\n",
    "    test_encodings.append(enc_i)\n",
    "test_encodings = np.concatenate(test_encodings)                                  # matrix with ages column  "
   ]
  },
  {
   "cell_type": "markdown",
   "metadata": {},
   "source": [
    "### Picking most correlated measurements"
   ]
  },
  {
   "cell_type": "code",
   "execution_count": 9,
   "metadata": {},
   "outputs": [
    {
     "name": "stdout",
     "output_type": "stream",
     "text": [
      "Measurement 18 has correlation -0.4468059048428432\n",
      "Measurement 23 has correlation -0.47956233724531905\n",
      "Measurement 28 has correlation 0.34570906089254716\n",
      "Measurement 64 has correlation -0.34426659764452766\n",
      "Measurement 73 has correlation 0.3270120013300854\n",
      "Measurement 83 has correlation -0.34252132540701624\n",
      "Measurement 91 has correlation -0.3366450284888742\n",
      "Measurement 114 has correlation 0.31043358917543806\n",
      "Measurement 116 has correlation -0.4251215085202866\n",
      "Measurement 121 has correlation 0.30128828022948145\n",
      "Measurement 123 has correlation -0.3432601492970593\n"
     ]
    },
    {
     "data": {
      "image/png": "[encoded data removed]",
      "text/plain": [
       "<Figure size 432x288 with 1 Axes>"
      ]
     },
     "metadata": {
      "needs_background": "light"
     },
     "output_type": "display_data"
    }
   ],
   "source": [
    "# measurements correlated to age\n",
    "corr_to_age = np.corrcoef(encodings.T)[-1, :-1]                       # correlation coefficients of 128 measurements to ages\n",
    "matplotlib.pyplot.plot(range(128),abs(corr_to_age), 'o')\n",
    "matplotlib.pyplot.plot(range(128),[.3]*128, '-')\n",
    "\n",
    "#most correlated measurements\n",
    "corr_coeff = .3                                                   # a threshold\n",
    "most_correl = np.where(abs(corr_to_age) > corr_coeff)[0]\n",
    "for measure in most_correl:\n",
    "    print(f\"Measurement {measure} has correlation {corr_to_age[measure]}\")\n",
    "    \n",
    "#separating the train data\n",
    "X = encodings[:,[i for i in most_correl]]           # matrix without ages column\n",
    "Y = encodings[:,-1]            # ages only\n",
    "\n",
    "#separating the test data\n",
    "X_test = test_encodings[:,[i for i in most_correl]]           # matrix without ages column\n",
    "Y_test = test_encodings[:,-1]            # ages only"
   ]
  },
  {
   "cell_type": "markdown",
   "metadata": {},
   "source": [
    "### Modeling"
   ]
  },
  {
   "cell_type": "code",
   "execution_count": 10,
   "metadata": {},
   "outputs": [
    {
     "data": {
      "text/plain": [
       "146.71721860093817"
      ]
     },
     "execution_count": 10,
     "metadata": {},
     "output_type": "execute_result"
    }
   ],
   "source": [
    "from sklearn.linear_model import LinearRegression\n",
    "\n",
    "reg = LinearRegression().fit(X, Y)\n",
    "\n",
    "#MSE\n",
    "np.sum(np.power(reg.predict(X_test) - Y_test,2))/Y_test.shape[0]"
   ]
  },
  {
   "cell_type": "code",
   "execution_count": null,
   "metadata": {},
   "outputs": [],
   "source": []
  },
  {
   "cell_type": "code",
   "execution_count": null,
   "metadata": {},
   "outputs": [],
   "source": []
  }
 ],
 "metadata": {
  "kernelspec": {
   "display_name": "Python 3",
   "language": "python",
   "name": "python3"
  },
  "language_info": {
   "codemirror_mode": {
    "name": "ipython",
    "version": 3
   },
   "file_extension": ".py",
   "mimetype": "text/x-python",
   "name": "python",
   "nbconvert_exporter": "python",
   "pygments_lexer": "ipython3",
   "version": "3.8.5"
  }
 },
 "nbformat": 4,
 "nbformat_minor": 4
}
