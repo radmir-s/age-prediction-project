{
 "cells": [
  {
   "cell_type": "code",
   "execution_count": 2,
   "metadata": {},
   "outputs": [],
   "source": [
    "import numpy as np\n",
    "import matplotlib.pyplot\n",
    "\n",
    "# importing the training data\n",
    "XX = np.load(\"smalldata/encodings/X.npy\")\n",
    "k = 10            # k is a fold number\n",
    "N = XX.shape[0]\n",
    "\n",
    "train = [True]*N\n",
    "train = np.array(train)\n",
    "train[::k] = False\n",
    "test = [False]*N\n",
    "test = np.array(test)\n",
    "test[::k] = True\n",
    "\n",
    "X = XX[train,:-1]\n",
    "Y = XX[train,-1]\n",
    "X_test = XX[test,:-1]\n",
    "Y_test = XX[test,-1]\n"
   ]
  },
  {
   "cell_type": "code",
   "execution_count": null,
   "metadata": {},
   "outputs": [],
   "source": []
  },
  {
   "cell_type": "code",
   "execution_count": 4,
   "metadata": {},
   "outputs": [
    {
     "data": {
      "text/plain": [
       "[<matplotlib.lines.Line2D at 0x1e467b318b0>]"
      ]
     },
     "execution_count": 4,
     "metadata": {},
     "output_type": "execute_result"
    },
    {
     "data": {
      "image/png": "[encoded data removed]",
      "text/plain": [
       "<Figure size 432x288 with 1 Axes>"
      ]
     },
     "metadata": {
      "needs_background": "light"
     },
     "output_type": "display_data"
    }
   ],
   "source": [
    "# finding PCA\n",
    "X_avg = np.mean(X, axis=0)\n",
    "n = X_avg.shape[0]\n",
    "X = X - X_avg\n",
    "U, S, VT = np.linalg.svd(X / np.sqrt(n), full_matrices=False)\n",
    "cdS = np.cumsum(S) / np.sum(S)  # Cumulative energy\n",
    "r90 = np.min(np.where(cdS > 0.9))\n",
    "\n",
    "#plots\n",
    "matplotlib.pyplot.plot(range(len(S)),S)\n",
    "matplotlib.pyplot.plot(range(len(S)),cdS)"
   ]
  },
  {
   "cell_type": "code",
   "execution_count": 5,
   "metadata": {},
   "outputs": [],
   "source": [
    "from sklearn.linear_model import LinearRegression\n",
    "\n",
    "Mse = []\n",
    "for pca_n in range(1,r90+1):\n",
    "    Xpc = X @ VT[0:pca_n].T\n",
    "    Xpc_test = X_test @ VT[0:pca_n].T\n",
    "    reg = LinearRegression().fit(Xpc, Y)\n",
    "    mse = np.sqrt(np.sum(np.power(reg.predict(Xpc_test) - Y_test,2))/Y_test.shape[0])\n",
    "    Mse.append(mse)"
   ]
  },
  {
   "cell_type": "code",
   "execution_count": 6,
   "metadata": {},
   "outputs": [
    {
     "data": {
      "text/plain": [
       "[<matplotlib.lines.Line2D at 0x1e46c5025b0>]"
      ]
     },
     "execution_count": 6,
     "metadata": {},
     "output_type": "execute_result"
    },
    {
     "data": {
      "image/png": "[encoded data removed]",
      "text/plain": [
       "<Figure size 432x288 with 1 Axes>"
      ]
     },
     "metadata": {
      "needs_background": "light"
     },
     "output_type": "display_data"
    }
   ],
   "source": [
    "matplotlib.pyplot.plot(range(1,r90+1),Mse,\"o\")"
   ]
  },
  {
   "cell_type": "code",
   "execution_count": 7,
   "metadata": {},
   "outputs": [
    {
     "data": {
      "text/plain": [
       "[615.3602882623528, 316.1436100965999, 611.9594555345794, 799.9498527850672]"
      ]
     },
     "execution_count": 7,
     "metadata": {},
     "output_type": "execute_result"
    }
   ],
   "source": [
    "Mse[:4]"
   ]
  },
  {
   "cell_type": "code",
   "execution_count": null,
   "metadata": {},
   "outputs": [],
   "source": []
  }
 ],
 "metadata": {
  "kernelspec": {
   "display_name": "Python 3",
   "language": "python",
   "name": "python3"
  },
  "language_info": {
   "codemirror_mode": {
    "name": "ipython",
    "version": 3
   },
   "file_extension": ".py",
   "mimetype": "text/x-python",
   "name": "python",
   "nbconvert_exporter": "python",
   "pygments_lexer": "ipython3",
   "version": "3.8.5"
  }
 },
 "nbformat": 4,
 "nbformat_minor": 4
}
