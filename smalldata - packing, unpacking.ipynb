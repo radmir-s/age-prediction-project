{
 "cells": [
  {
   "cell_type": "code",
   "execution_count": 19,
   "metadata": {},
   "outputs": [
    {
     "ename": "IndentationError",
     "evalue": "expected an indented block (<ipython-input-19-354a2dd7ff43>, line 7)",
     "output_type": "error",
     "traceback": [
      "\u001b[1;36m  File \u001b[1;32m\"<ipython-input-19-354a2dd7ff43>\"\u001b[1;36m, line \u001b[1;32m7\u001b[0m\n\u001b[1;33m    import numpy as np            os.remove(f\"smalldata/encodings/{folder}/{file}\")\u001b[0m\n\u001b[1;37m                                                                                   ^\u001b[0m\n\u001b[1;31mIndentationError\u001b[0m\u001b[1;31m:\u001b[0m expected an indented block\n"
     ]
    }
   ],
   "source": [
    "import os\n",
    "\n",
    "for folder in os.listdir(\"smalldata\")[1:100]:\n",
    "    wanted = [x[:-3]+'npy' for x in os.listdir(f\"smalldata/{folder}\")]\n",
    "    for file in os.listdir(f\"smalldata/encodings/{folder}\"):\n",
    "        if not (file in wanted):\n",
    "            os.remove(f\"smalldata/encodings/{folder}/{file}\")"
   ]
  },
  {
   "cell_type": "code",
   "execution_count": 49,
   "metadata": {},
   "outputs": [],
   "source": [
    "import numpy as np    \n",
    "X = []\n",
    "for i in range(1,101):\n",
    "    for npy in os.listdir(f\"smalldata/encodings/{i:03}\"):\n",
    "        X.append(np.concatenate((np.load(f\"smalldata/encodings/{i:03}/{npy}\"),np.array([i]))))"
   ]
  },
  {
   "cell_type": "code",
   "execution_count": 50,
   "metadata": {},
   "outputs": [],
   "source": [
    "Y = np.stack(X)"
   ]
  },
  {
   "cell_type": "code",
   "execution_count": 54,
   "metadata": {},
   "outputs": [
    {
     "data": {
      "text/plain": [
       "(17887, 129)"
      ]
     },
     "execution_count": 54,
     "metadata": {},
     "output_type": "execute_result"
    }
   ],
   "source": [
    "Y.shape"
   ]
  },
  {
   "cell_type": "code",
   "execution_count": 53,
   "metadata": {},
   "outputs": [],
   "source": [
    "np.save(file=\"smalldata/encodings/X\", arr=Y)"
   ]
  },
  {
   "cell_type": "code",
   "execution_count": null,
   "metadata": {},
   "outputs": [],
   "source": []
  }
 ],
 "metadata": {
  "kernelspec": {
   "display_name": "Python 3",
   "language": "python",
   "name": "python3"
  },
  "language_info": {
   "codemirror_mode": {
    "name": "ipython",
    "version": 3
   },
   "file_extension": ".py",
   "mimetype": "text/x-python",
   "name": "python",
   "nbconvert_exporter": "python",
   "pygments_lexer": "ipython3",
   "version": "3.8.5"
  }
 },
 "nbformat": 4,
 "nbformat_minor": 4
}
